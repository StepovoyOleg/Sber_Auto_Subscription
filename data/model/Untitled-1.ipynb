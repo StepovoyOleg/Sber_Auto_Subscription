{
 "cells": [
  {
   "cell_type": "code",
   "execution_count": 1,
   "metadata": {},
   "outputs": [
    {
     "name": "stdout",
     "output_type": "stream",
     "text": [
      "[{'utm_source': 'ZpYIoDJMcFzVoPFsHGJL', 'utm_medium': 'banner', 'utm_campaign': 'gecBYcKZCPMcVYdSSzKP', 'utm_adcontent': 'JNHcPlZPxEMWDnRiyoBf', 'device_category': 'mobile', 'device_brand': 'Samsung', 'device_screen_resolution': 'other', 'device_browser': 'Chrome', 'geo_country': 'Russia', 'geo_city': 'Kislovodsk', 'utm_medium_added_is_organic': 0, 'utm_source_added_is_social': 0}, {'utm_source': 'MvfHsxITijuriZxsqZqt', 'utm_medium': 'cpm', 'utm_campaign': 'FTjNLDyTrXaWYgZymFkV', 'utm_adcontent': 'xhoenQgDQsgfEPYNPwKO', 'device_category': 'mobile', 'device_brand': 'Samsung', 'device_screen_resolution': '320x569', 'device_browser': 'Chrome', 'geo_country': 'Russia', 'geo_city': 'Tula', 'utm_medium_added_is_organic': 0, 'utm_source_added_is_social': 1}, {'utm_source': 'MvfHsxITijuriZxsqZqt', 'utm_medium': 'cpm', 'utm_campaign': 'FTjNLDyTrXaWYgZymFkV', 'utm_adcontent': 'xhoenQgDQsgfEPYNPwKO', 'device_category': 'desktop', 'device_brand': 'unknown', 'device_screen_resolution': 'other', 'device_browser': 'Chrome', 'geo_country': 'Russia', 'geo_city': 'Dmitrov', 'utm_medium_added_is_organic': 0, 'utm_source_added_is_social': 1}, {'utm_source': 'ZpYIoDJMcFzVoPFsHGJL', 'utm_medium': 'banner', 'utm_campaign': 'gecBYcKZCPMcVYdSSzKP', 'utm_adcontent': 'JNHcPlZPxEMWDnRiyoBf', 'device_category': 'mobile', 'device_brand': 'other', 'device_screen_resolution': '360x720', 'device_browser': 'Chrome', 'geo_country': 'Russia', 'geo_city': 'Balashikha', 'utm_medium_added_is_organic': 0, 'utm_source_added_is_social': 0}, {'utm_source': 'vFcAhRxLfOWKhvxjELkx', 'utm_medium': 'cpc', 'utm_campaign': 'okTXSMadDkjvntEHzIjp', 'utm_adcontent': 'LLfCasrxQzJIyuldcuWy', 'device_category': 'desktop', 'device_brand': 'unknown', 'device_screen_resolution': '1600x900', 'device_browser': 'YaBrowser', 'geo_country': 'Russia', 'geo_city': 'Moscow', 'utm_medium_added_is_organic': 0, 'utm_source_added_is_social': 0}]\n"
     ]
    }
   ],
   "source": [
    "import pickle\n",
    "\n",
    "with open('test_data.pkl', 'rb') as file:\n",
    "    my_list = pickle.load(file)\n",
    "\n",
    "print(my_list)"
   ]
  },
  {
   "cell_type": "code",
   "execution_count": 2,
   "metadata": {},
   "outputs": [
    {
     "data": {
      "text/plain": [
       "[{'utm_source': 'ZpYIoDJMcFzVoPFsHGJL',\n",
       "  'utm_medium': 'banner',\n",
       "  'utm_campaign': 'gecBYcKZCPMcVYdSSzKP',\n",
       "  'utm_adcontent': 'JNHcPlZPxEMWDnRiyoBf',\n",
       "  'device_category': 'mobile',\n",
       "  'device_brand': 'Samsung',\n",
       "  'device_screen_resolution': 'other',\n",
       "  'device_browser': 'Chrome',\n",
       "  'geo_country': 'Russia',\n",
       "  'geo_city': 'Kislovodsk',\n",
       "  'utm_medium_added_is_organic': 0,\n",
       "  'utm_source_added_is_social': 0},\n",
       " {'utm_source': 'MvfHsxITijuriZxsqZqt',\n",
       "  'utm_medium': 'cpm',\n",
       "  'utm_campaign': 'FTjNLDyTrXaWYgZymFkV',\n",
       "  'utm_adcontent': 'xhoenQgDQsgfEPYNPwKO',\n",
       "  'device_category': 'mobile',\n",
       "  'device_brand': 'Samsung',\n",
       "  'device_screen_resolution': '320x569',\n",
       "  'device_browser': 'Chrome',\n",
       "  'geo_country': 'Russia',\n",
       "  'geo_city': 'Tula',\n",
       "  'utm_medium_added_is_organic': 0,\n",
       "  'utm_source_added_is_social': 1},\n",
       " {'utm_source': 'MvfHsxITijuriZxsqZqt',\n",
       "  'utm_medium': 'cpm',\n",
       "  'utm_campaign': 'FTjNLDyTrXaWYgZymFkV',\n",
       "  'utm_adcontent': 'xhoenQgDQsgfEPYNPwKO',\n",
       "  'device_category': 'desktop',\n",
       "  'device_brand': 'unknown',\n",
       "  'device_screen_resolution': 'other',\n",
       "  'device_browser': 'Chrome',\n",
       "  'geo_country': 'Russia',\n",
       "  'geo_city': 'Dmitrov',\n",
       "  'utm_medium_added_is_organic': 0,\n",
       "  'utm_source_added_is_social': 1},\n",
       " {'utm_source': 'ZpYIoDJMcFzVoPFsHGJL',\n",
       "  'utm_medium': 'banner',\n",
       "  'utm_campaign': 'gecBYcKZCPMcVYdSSzKP',\n",
       "  'utm_adcontent': 'JNHcPlZPxEMWDnRiyoBf',\n",
       "  'device_category': 'mobile',\n",
       "  'device_brand': 'other',\n",
       "  'device_screen_resolution': '360x720',\n",
       "  'device_browser': 'Chrome',\n",
       "  'geo_country': 'Russia',\n",
       "  'geo_city': 'Balashikha',\n",
       "  'utm_medium_added_is_organic': 0,\n",
       "  'utm_source_added_is_social': 0},\n",
       " {'utm_source': 'vFcAhRxLfOWKhvxjELkx',\n",
       "  'utm_medium': 'cpc',\n",
       "  'utm_campaign': 'okTXSMadDkjvntEHzIjp',\n",
       "  'utm_adcontent': 'LLfCasrxQzJIyuldcuWy',\n",
       "  'device_category': 'desktop',\n",
       "  'device_brand': 'unknown',\n",
       "  'device_screen_resolution': '1600x900',\n",
       "  'device_browser': 'YaBrowser',\n",
       "  'geo_country': 'Russia',\n",
       "  'geo_city': 'Moscow',\n",
       "  'utm_medium_added_is_organic': 0,\n",
       "  'utm_source_added_is_social': 0}]"
      ]
     },
     "execution_count": 2,
     "metadata": {},
     "output_type": "execute_result"
    }
   ],
   "source": [
    "my_list"
   ]
  },
  {
   "cell_type": "code",
   "execution_count": 3,
   "metadata": {},
   "outputs": [
    {
     "name": "stdout",
     "output_type": "stream",
     "text": [
      "{\"utm_source\": \"ZpYIoDJMcFzVoPFsHGJL\", \"utm_medium\": \"banner\", \"utm_campaign\": \"gecBYcKZCPMcVYdSSzKP\", \"utm_adcontent\": \"JNHcPlZPxEMWDnRiyoBf\", \"device_category\": \"mobile\", \"device_brand\": \"Samsung\", \"device_screen_resolution\": \"other\", \"device_browser\": \"Chrome\", \"geo_country\": \"Russia\", \"geo_city\": \"Kislovodsk\", \"utm_medium_added_is_organic\": 0, \"utm_source_added_is_social\": 0}\n"
     ]
    }
   ],
   "source": [
    "data = \"{'utm_source': 'ZpYIoDJMcFzVoPFsHGJL', 'utm_medium': 'banner', 'utm_campaign': 'gecBYcKZCPMcVYdSSzKP', 'utm_adcontent': 'JNHcPlZPxEMWDnRiyoBf', 'device_category': 'mobile', 'device_brand': 'Samsung', 'device_screen_resolution': 'other', 'device_browser': 'Chrome', 'geo_country': 'Russia', 'geo_city': 'Kislovodsk', 'utm_medium_added_is_organic': 0, 'utm_source_added_is_social': 0}\"\n",
    "\n",
    "# Заменяем одинарные кавычки на двойные\n",
    "data_with_double_quotes = data.replace(\"'\", '\"')\n",
    "\n",
    "print(data_with_double_quotes)"
   ]
  },
  {
   "cell_type": "code",
   "execution_count": 4,
   "metadata": {},
   "outputs": [
    {
     "name": "stdout",
     "output_type": "stream",
     "text": [
      "<class 'dict'>\n"
     ]
    }
   ],
   "source": [
    "import pickle\n",
    "\n",
    "with open('model.pkl', 'rb') as file:\n",
    "    model = pickle.load(file)\n",
    "\n",
    "print(type(model))  # Убедитесь, что это не словарь, а модель"
   ]
  },
  {
   "cell_type": "code",
   "execution_count": 5,
   "metadata": {},
   "outputs": [
    {
     "ename": "TypeError",
     "evalue": "unhashable type: 'dict'",
     "output_type": "error",
     "traceback": [
      "\u001b[1;31m---------------------------------------------------------------------------\u001b[0m",
      "\u001b[1;31mTypeError\u001b[0m                                 Traceback (most recent call last)",
      "Cell \u001b[1;32mIn[5], line 1\u001b[0m\n\u001b[1;32m----> 1\u001b[0m model[model]\n",
      "\u001b[1;31mTypeError\u001b[0m: unhashable type: 'dict'"
     ]
    }
   ],
   "source": [
    "model[model]"
   ]
  },
  {
   "cell_type": "code",
   "execution_count": null,
   "metadata": {},
   "outputs": [],
   "source": []
  }
 ],
 "metadata": {
  "kernelspec": {
   "display_name": "base",
   "language": "python",
   "name": "python3"
  },
  "language_info": {
   "codemirror_mode": {
    "name": "ipython",
    "version": 3
   },
   "file_extension": ".py",
   "mimetype": "text/x-python",
   "name": "python",
   "nbconvert_exporter": "python",
   "pygments_lexer": "ipython3",
   "version": "3.11.7"
  }
 },
 "nbformat": 4,
 "nbformat_minor": 2
}
